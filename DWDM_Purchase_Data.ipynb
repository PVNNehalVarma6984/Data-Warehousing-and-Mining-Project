{
  "nbformat": 4,
  "nbformat_minor": 0,
  "metadata": {
    "colab": {
      "provenance": []
    },
    "kernelspec": {
      "name": "python3",
      "display_name": "Python 3"
    },
    "language_info": {
      "name": "python"
    }
  },
  "cells": [
    {
      "cell_type": "code",
      "execution_count": null,
      "metadata": {
        "colab": {
          "base_uri": "https://localhost:8080/"
        },
        "id": "M5nGusx_SUTj",
        "outputId": "f0c88de6-bd41-4cb5-976d-c4256db4c147"
      },
      "outputs": [
        {
          "output_type": "stream",
          "name": "stdout",
          "text": [
            "Dissimilarity Matrix for Nominal Data:\n",
            "[[0.  0.  0.  ... 0.  0.  0. ]\n",
            " [1.  0.  0.  ... 0.  0.  0. ]\n",
            " [1.  0.5 0.  ... 0.  0.  0. ]\n",
            " ...\n",
            " [0.  1.  1.  ... 0.  0.  0. ]\n",
            " [1.  0.5 0.  ... 1.  0.  0. ]\n",
            " [0.5 1.  0.5 ... 0.5 0.5 0. ]]\n",
            "\n",
            "Dissimilarity Matrix for Ordinal Data:\n",
            "[[0. 0. 0. ... 0. 0. 0.]\n",
            " [1. 0. 0. ... 0. 0. 0.]\n",
            " [1. 0. 0. ... 0. 0. 0.]\n",
            " ...\n",
            " [1. 0. 0. ... 0. 0. 0.]\n",
            " [0. 1. 1. ... 1. 0. 0.]\n",
            " [1. 0. 0. ... 0. 1. 0.]]\n",
            "\n",
            "Dissimilarity Matrix for Binary Data:\n",
            "[[0. 0. 0. ... 0. 0. 0.]\n",
            " [1. 0. 0. ... 0. 0. 0.]\n",
            " [0. 1. 0. ... 0. 0. 0.]\n",
            " ...\n",
            " [1. 0. 1. ... 0. 0. 0.]\n",
            " [0. 1. 0. ... 1. 0. 0.]\n",
            " [0. 1. 0. ... 1. 0. 0.]]\n",
            "\n",
            "Dissimilarity Matrix for Numeric Data:\n",
            "[[0.         0.         0.         ... 0.         0.         0.        ]\n",
            " [0.         0.         0.         ... 0.         0.         0.        ]\n",
            " [1.3622644  1.3622644  0.         ... 0.         0.         0.        ]\n",
            " ...\n",
            " [0.94310612 0.94310612 0.41915828 ... 0.         0.         0.        ]\n",
            " [0.41915828 0.41915828 1.78142267 ... 1.3622644  0.         0.        ]\n",
            " [1.46705397 1.46705397 0.10478957 ... 0.52394785 1.88621224 0.        ]]\n"
          ]
        }
      ],
      "source": [
        "import numpy as np\n",
        "import pandas as pd\n",
        "from sklearn.metrics import pairwise_distances\n",
        "from sklearn.preprocessing import LabelEncoder, OrdinalEncoder, StandardScaler\n",
        "\n",
        "df = pd.read_excel('Purchase_data_50_rows.xlsx')\n",
        "\n",
        "nominal_data = df[['Customer_Type', 'Product_Category']].values\n",
        "ordinal_data = df['Satisfaction_Level'].values\n",
        "binary_data = df['Purchase_Decision'].values\n",
        "numeric_data = df['Age'].values.reshape(-1, 1)\n",
        "\n",
        "label_encoder = LabelEncoder()\n",
        "nominal_data_encoded = label_encoder.fit_transform(nominal_data.ravel()).reshape(nominal_data.shape)\n",
        "\n",
        "ordinal_encoder = OrdinalEncoder(categories=[['Low', 'Medium', 'High']])\n",
        "ordinal_data_encoded = ordinal_encoder.fit_transform(ordinal_data.reshape(-1, 1))\n",
        "\n",
        "scaler = StandardScaler()\n",
        "numeric_data_standardized = scaler.fit_transform(numeric_data)\n",
        "\n",
        "combined_data = np.column_stack((nominal_data_encoded, ordinal_data_encoded, binary_data, numeric_data_standardized))\n",
        "\n",
        "dissimilarity_nominal = pairwise_distances(nominal_data_encoded, metric='hamming')\n",
        "np.fill_diagonal(dissimilarity_nominal, 0)\n",
        "dissimilarity_nominal = np.tril(dissimilarity_nominal)\n",
        "\n",
        "print(\"Dissimilarity Matrix for Nominal Data:\")\n",
        "print(dissimilarity_nominal)\n",
        "\n",
        "dissimilarity_ordinal = pairwise_distances(ordinal_data_encoded.reshape(-1, 1), metric='euclidean')\n",
        "np.fill_diagonal(dissimilarity_ordinal, 0)\n",
        "dissimilarity_ordinal = np.tril(dissimilarity_ordinal)\n",
        "\n",
        "print(\"\\nDissimilarity Matrix for Ordinal Data:\")\n",
        "print(dissimilarity_ordinal)\n",
        "\n",
        "dissimilarity_binary = pairwise_distances(binary_data.reshape(-1, 1), metric='hamming')\n",
        "np.fill_diagonal(dissimilarity_binary, 0)\n",
        "dissimilarity_binary = np.tril(dissimilarity_binary)\n",
        "\n",
        "print(\"\\nDissimilarity Matrix for Binary Data:\")\n",
        "print(dissimilarity_binary)\n",
        "\n",
        "dissimilarity_numeric = pairwise_distances(numeric_data_standardized, metric='euclidean')\n",
        "np.fill_diagonal(dissimilarity_numeric, 0)\n",
        "dissimilarity_numeric = np.tril(dissimilarity_numeric)\n",
        "\n",
        "print(\"\\nDissimilarity Matrix for Numeric Data:\")\n",
        "print(dissimilarity_numeric)\n"
      ]
    }
  ]
}